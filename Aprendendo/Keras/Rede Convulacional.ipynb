{
 "cells": [
  {
   "cell_type": "markdown",
   "metadata": {},
   "source": [
    "<h1>Rede Convulacional</h1>\n",
    "\n",
    "<h3>Básico</h3>\n",
    "<p> Quando trabalhamos com imagens, a mesma possui vários contextos, informações a respeito dela que tem haver com sua distribuição de cores. Nos perdemos esses dados quando estamos em uma situação de backpropagation normal.<br>\n",
    "Temos então uma técnica especial para passar as informações de uma imagem para a rede neural.</p>\n",
    "\n",
    "<h3>Maxpool</h3>\n",
    "<p>Basicamente essa parte vai pegar uma parte da imagem 3x3 e tentar condensa-la em uma parte 1x1, basicamente ele vai fazer uma média das informações mais importantes naquela parte da foto, em relação as cores dos pixels. Fazendo isso nós conseguimos mais pesos para os detalhes e nuanças de uma imagem.\n",
    "</p>"
   ]
  },
  {
   "cell_type": "code",
   "execution_count": null,
   "metadata": {},
   "outputs": [],
   "source": [
    "from keras.models import Sequential\n",
    "from keras.layers import Dense, Conv2d, MaxPooling2d\n",
    "from keras.utils import np_utils\n",
    "from keras.datasets import mnist\n",
    "import numpy as np\n",
    "import matplotlib.pyplot as plt\n",
    "\n",
    "\n",
    "(x_train, y_train), (x_test, y_test) = mnist.load_data()\n",
    "\n",
    "#Primeira coisa, precisamos preprocessar nossa imagem para um vetor de três dimensões, pq?? N sei, mas foda-se\n",
    "x_train = x_train.reshape(x_train.shape[0], 28, 28, 1) #Eu n faço ideia do que ele está fazendo aqui\n",
    "y_train = y_train.reshape(y_train.shape[0], 28, 28, 1)\n",
    "\n",
    "x_train = x_train / 255\n",
    "x_test = x_test / 255"
   ]
  }
 ],
 "metadata": {
  "kernelspec": {
   "display_name": "Python 3",
   "language": "python",
   "name": "python3"
  },
  "language_info": {
   "codemirror_mode": {
    "name": "ipython",
    "version": 3
   },
   "file_extension": ".py",
   "mimetype": "text/x-python",
   "name": "python",
   "nbconvert_exporter": "python",
   "pygments_lexer": "ipython3",
   "version": "3.5.2"
  }
 },
 "nbformat": 4,
 "nbformat_minor": 2
}
